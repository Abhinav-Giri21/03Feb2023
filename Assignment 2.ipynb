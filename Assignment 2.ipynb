{
 "cells": [
  {
   "cell_type": "code",
   "execution_count": 3,
   "id": "10eff612-6548-472d-968a-268ace3cdfde",
   "metadata": {},
   "outputs": [
    {
     "data": {
      "text/plain": [
       "[1, 3, 5, 7, 9, 11, 13, 15, 17, 19, 21, 23]"
      ]
     },
     "execution_count": 3,
     "metadata": {},
     "output_type": "execute_result"
    }
   ],
   "source": [
    "'''Q1.Which keyword is used to create a function? Create a function to return a list of odd numbers in the\n",
    "range of 1 to 25.'''\n",
    "#Ans.def keyword is used to create a function.\n",
    "def odd():\n",
    "    l=[]\n",
    "    for x in range(1,25):\n",
    "        if(x%2!=0):\n",
    "            l.append(x)\n",
    "    return l\n",
    "odd()\n",
    "    \n",
    "    \n",
    "\n"
   ]
  },
  {
   "cell_type": "code",
   "execution_count": 12,
   "id": "645fa354-7564-499e-8446-5183edf04601",
   "metadata": {},
   "outputs": [
    {
     "name": "stdout",
     "output_type": "stream",
     "text": [
      "Abhinav\n",
      "Rahul\n",
      "Abhishek\n",
      "A : 77\n",
      "B : 81\n",
      "C : 65\n"
     ]
    }
   ],
   "source": [
    "'''Q2.Why *args and **kwargs is used in some functions? Create a function each for *args and **kwargs\n",
    "to demonstrate their use.'''\n",
    "#Ans.*args keyword is used when multiple argument has to be passed in a function but it has to be a non-key worded argument.\n",
    "#    **kwargs keyword is used when a key-worded argument has to be passed in a function.\n",
    "def nme(*names):\n",
    "    for x in names:\n",
    "        print(x)\n",
    "nme('Abhinav','Rahul','Abhishek')\n",
    "\n",
    "def dic(**sqr):\n",
    "    for x,y in sqr.items():\n",
    "        print(x,\":\",y)\n",
    "dic(A=77,B=81,C=65)"
   ]
  },
  {
   "cell_type": "code",
   "execution_count": 14,
   "id": "bc03aac0-1dfb-416f-847e-6e56b84fe755",
   "metadata": {},
   "outputs": [
    {
     "name": "stdout",
     "output_type": "stream",
     "text": [
      "2\n",
      "4\n",
      "6\n",
      "8\n",
      "10\n"
     ]
    }
   ],
   "source": [
    "'''Q3.What is an iterator in python? Name the method used to initialise the iterator object and the method\n",
    "used for iteration. Use these methods to print the first five elements of the given list [2, 4, 6, 8, 10, 12, 14,\n",
    "16, 18, 20].'''\n",
    "#Ans.Iterator in python is an object used to iterate over iterable objects like list,tuples,dictionary etc.\n",
    "#     iter() method is used to initialise the iteration and next() method is used for iteration\n",
    "\n",
    "l=[2,4,6,8,10,12,14,16,18,20]\n",
    "itera=iter(l)\n",
    "for x in range(5):\n",
    "    print(next(itera))"
   ]
  },
  {
   "cell_type": "code",
   "execution_count": 9,
   "id": "3ef7ba1e-d4a8-4ad4-99f6-b1328dc93d5b",
   "metadata": {},
   "outputs": [
    {
     "name": "stdout",
     "output_type": "stream",
     "text": [
      "2\n",
      "4\n"
     ]
    }
   ],
   "source": [
    "'''Q4.What is a generator function in python? Why yield keyword is used? Give an example of a generator\n",
    "function.'''\n",
    "#Ans. A generator function in pyhton is like a normal function but to generate a value it uses yield keyword.\n",
    "#     It uses yield keyword to generate a value.\n",
    "def even(l):\n",
    "    for x in l:\n",
    "        if(x%2==0):\n",
    "            yield x\n",
    "l=[1,2,3,4,5]\n",
    "x=even(l)\n",
    "print(next(x))\n",
    "print(next(x))\n"
   ]
  },
  {
   "cell_type": "code",
   "execution_count": 11,
   "id": "2bfdb52c-9584-4763-ad09-90db015d3bc3",
   "metadata": {},
   "outputs": [
    {
     "name": "stdout",
     "output_type": "stream",
     "text": [
      "2\n",
      "3\n",
      "5\n",
      "7\n",
      "11\n",
      "13\n",
      "17\n",
      "19\n",
      "23\n",
      "29\n",
      "31\n",
      "37\n",
      "41\n",
      "43\n",
      "47\n",
      "53\n",
      "59\n",
      "61\n",
      "67\n",
      "71\n"
     ]
    }
   ],
   "source": [
    "'''Q5.Create a generator function for prime numbers less than 1000. Use the next() method to print the\n",
    "first 20 prime numbers.'''\n",
    "def prime():\n",
    "    for x in range(1,1000):\n",
    "        c=0\n",
    "        i=1\n",
    "        while(i<=x):\n",
    "            if(x%i==0):\n",
    "                c+=1\n",
    "            i+=1\n",
    "        if(c==2):\n",
    "            yield x\n",
    "a=prime()\n",
    "for y in range(20):\n",
    "    print(next(a))"
   ]
  },
  {
   "cell_type": "code",
   "execution_count": 12,
   "id": "1f009fdb-6730-4e88-9662-6f54daa641cf",
   "metadata": {},
   "outputs": [
    {
     "name": "stdout",
     "output_type": "stream",
     "text": [
      "0\n",
      "1\n",
      "1\n",
      "2\n",
      "3\n",
      "5\n",
      "8\n",
      "13\n",
      "21\n",
      "34\n"
     ]
    }
   ],
   "source": [
    "'''Q6.Write a python program to print the first 10 Fibonacci numbers using a while loop.'''\n",
    "i=1\n",
    "a=0\n",
    "b=1\n",
    "c=1\n",
    "while(i<=10):\n",
    "    print(a)\n",
    "    c=a+b\n",
    "    a=b\n",
    "    b=c\n",
    "    i+=1\n",
    "    \n",
    "    "
   ]
  },
  {
   "cell_type": "code",
   "execution_count": 14,
   "id": "2c76ab2b-0671-49dc-8a1b-5a0e00d9432b",
   "metadata": {},
   "outputs": [
    {
     "name": "stdout",
     "output_type": "stream",
     "text": [
      "['p', 'w', 's', 'k', 'i', 'l', 'l', 's']\n"
     ]
    }
   ],
   "source": [
    "'''Q7.Write a List Comprehension to iterate through the given string: ‘pwskills’.\n",
    "Expected output: ['p', 'w', 's', 'k', 'i', 'l', 'l', 's']'''\n",
    "string='pwskills'\n",
    "l=[]\n",
    "[l.append(x) for x in string]\n",
    "print(l)"
   ]
  },
  {
   "cell_type": "code",
   "execution_count": 21,
   "id": "1fa2ff66-9ae9-435e-9de3-0efba55aceea",
   "metadata": {},
   "outputs": [
    {
     "name": "stdin",
     "output_type": "stream",
     "text": [
      "Enter a number: 131\n"
     ]
    },
    {
     "name": "stdout",
     "output_type": "stream",
     "text": [
      "Yes\n"
     ]
    }
   ],
   "source": [
    "'''Q8.Write a python program to check whether a given number is Palindrome or not using a while loop.'''\n",
    "n=int(input(\"Enter a number:\"))\n",
    "a=n\n",
    "s=0\n",
    "rev=0\n",
    "while(n!=0):\n",
    "     rem=n%10\n",
    "     rev=rev*10+rem\n",
    "     n=n//10\n",
    "if(rev==a):\n",
    "   print(\"Yes\")\n",
    "else:\n",
    "   print(\"No\")\n",
    "            \n",
    "    \n",
    "    "
   ]
  },
  {
   "cell_type": "code",
   "execution_count": 18,
   "id": "ce7b1677-8691-4b6f-b24e-f02f997e4b2e",
   "metadata": {},
   "outputs": [
    {
     "name": "stdout",
     "output_type": "stream",
     "text": [
      "[1, 3, 5, 7, 9, 11, 13, 15, 17, 19, 21, 23, 25, 27, 29, 31, 33, 35, 37, 39, 41, 43, 45, 47, 49, 51, 53, 55, 57, 59, 61, 63, 65, 67, 69, 71, 73, 75, 77, 79, 81, 83, 85, 87, 89, 91, 93, 95, 97, 99]\n"
     ]
    }
   ],
   "source": [
    "'''Q9.Write a code to print odd numbers from 1 to 100 using list comprehension.\n",
    "Note: Use a list comprehension to create a list from 1 to 100 and use another List comprehension to filter\n",
    "out odd numbers.'''\n",
    "l=[x for x in range(1,101)]\n",
    "l1=[y for y in l if y%2!=0]\n",
    "print(l1)"
   ]
  },
  {
   "cell_type": "code",
   "execution_count": null,
   "id": "8c2aaedb-a871-4c92-9ad7-7ab8ff4e451a",
   "metadata": {},
   "outputs": [],
   "source": []
  }
 ],
 "metadata": {
  "kernelspec": {
   "display_name": "Python 3 (ipykernel)",
   "language": "python",
   "name": "python3"
  },
  "language_info": {
   "codemirror_mode": {
    "name": "ipython",
    "version": 3
   },
   "file_extension": ".py",
   "mimetype": "text/x-python",
   "name": "python",
   "nbconvert_exporter": "python",
   "pygments_lexer": "ipython3",
   "version": "3.10.8"
  }
 },
 "nbformat": 4,
 "nbformat_minor": 5
}
